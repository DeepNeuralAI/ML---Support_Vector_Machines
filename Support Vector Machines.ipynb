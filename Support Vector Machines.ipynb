{
 "cells": [
  {
   "cell_type": "markdown",
   "metadata": {},
   "source": [
    "# Support Vector Machines"
   ]
  },
  {
   "cell_type": "markdown",
   "metadata": {},
   "source": [
    "## Imports"
   ]
  },
  {
   "cell_type": "code",
   "execution_count": 48,
   "metadata": {
    "ExecuteTime": {
     "end_time": "2019-07-10T21:03:43.968385Z",
     "start_time": "2019-07-10T21:03:43.038348Z"
    }
   },
   "outputs": [
    {
     "name": "stdout",
     "output_type": "stream",
     "text": [
      "The autoreload extension is already loaded. To reload it, use:\n",
      "  %reload_ext autoreload\n"
     ]
    }
   ],
   "source": [
    "from scipy.io import loadmat\n",
    "import matplotlib.pyplot as plt\n",
    "import seaborn as sns\n",
    "import numpy as np\n",
    "import pandas as pd\n",
    "from sklearn.svm import SVC\n",
    "from nltk.stem import PorterStemmer\n",
    "import re\n",
    "\n",
    "%matplotlib inline\n",
    "%load_ext autoreload\n",
    "%autoreload 2"
   ]
  },
  {
   "cell_type": "code",
   "execution_count": null,
   "metadata": {
    "ExecuteTime": {
     "end_time": "2019-07-10T21:02:41.602524Z",
     "start_time": "2019-07-10T21:02:41.599641Z"
    }
   },
   "outputs": [],
   "source": [
    "data = loadmat('ex6/ex6data1.mat'); \n",
    "X = data['X']\n",
    "y = data['y']"
   ]
  },
  {
   "cell_type": "code",
   "execution_count": null,
   "metadata": {
    "ExecuteTime": {
     "end_time": "2019-07-10T21:02:41.606539Z",
     "start_time": "2019-07-10T21:02:41.603893Z"
    }
   },
   "outputs": [],
   "source": [
    "X1 = X[:, 0][:, None]\n",
    "X2 = X[:, 1][:, None]"
   ]
  },
  {
   "cell_type": "code",
   "execution_count": null,
   "metadata": {
    "ExecuteTime": {
     "end_time": "2019-07-10T21:02:41.610818Z",
     "start_time": "2019-07-10T21:02:41.608809Z"
    }
   },
   "outputs": [],
   "source": [
    "positive_idx = y == 1\n",
    "negative_idx = y == 0"
   ]
  },
  {
   "cell_type": "code",
   "execution_count": null,
   "metadata": {
    "ExecuteTime": {
     "end_time": "2019-07-10T21:02:41.615242Z",
     "start_time": "2019-07-10T21:02:41.612524Z"
    }
   },
   "outputs": [],
   "source": [
    "positive_data = pd.DataFrame()"
   ]
  },
  {
   "cell_type": "code",
   "execution_count": null,
   "metadata": {
    "ExecuteTime": {
     "end_time": "2019-07-10T21:02:41.745901Z",
     "start_time": "2019-07-10T21:02:41.617009Z"
    }
   },
   "outputs": [],
   "source": [
    "ax = sns.scatterplot(x = X1[positive_idx], y = X2[positive_idx], marker = '+', color = 'blue')\n",
    "ax = sns.scatterplot(x = X1[negative_idx], y = X2[negative_idx], marker = 'o', color = 'red')"
   ]
  },
  {
   "cell_type": "markdown",
   "metadata": {},
   "source": [
    "## Linear Classification"
   ]
  },
  {
   "cell_type": "code",
   "execution_count": null,
   "metadata": {
    "ExecuteTime": {
     "end_time": "2019-07-10T21:02:41.750986Z",
     "start_time": "2019-07-10T21:02:41.746886Z"
    }
   },
   "outputs": [],
   "source": [
    "classifier = SVC(kernel=\"linear\")\n",
    "classifier.fit(X, np.ravel(y))"
   ]
  },
  {
   "cell_type": "markdown",
   "metadata": {},
   "source": [
    "### C = 1"
   ]
  },
  {
   "cell_type": "markdown",
   "metadata": {},
   "source": [
    "Informally, the C parameter is a positive value that controls the penalty for misclassified training examples. A large C parameter tells the SVM to try to classify all the examples correctly. C plays a role similar to 1/lambda where lambda is the regularization parameter"
   ]
  },
  {
   "cell_type": "code",
   "execution_count": null,
   "metadata": {
    "ExecuteTime": {
     "end_time": "2019-07-10T21:02:41.754702Z",
     "start_time": "2019-07-10T21:02:41.752104Z"
    }
   },
   "outputs": [],
   "source": [
    "x1 = np.linspace(0, 5, 100)\n",
    "x2 = np.linspace(1.5, 5, 100)"
   ]
  },
  {
   "cell_type": "code",
   "execution_count": null,
   "metadata": {
    "ExecuteTime": {
     "end_time": "2019-07-10T21:02:41.758134Z",
     "start_time": "2019-07-10T21:02:41.755757Z"
    }
   },
   "outputs": [],
   "source": [
    "xx, yy = np.meshgrid(x1, x2)"
   ]
  },
  {
   "cell_type": "code",
   "execution_count": null,
   "metadata": {
    "ExecuteTime": {
     "end_time": "2019-07-10T21:02:41.766161Z",
     "start_time": "2019-07-10T21:02:41.759172Z"
    }
   },
   "outputs": [],
   "source": [
    "z = classifier.predict(np.c_[xx.ravel(), yy.ravel()]).reshape(xx.shape)"
   ]
  },
  {
   "cell_type": "code",
   "execution_count": null,
   "metadata": {
    "ExecuteTime": {
     "end_time": "2019-07-10T21:02:41.899562Z",
     "start_time": "2019-07-10T21:02:41.767157Z"
    }
   },
   "outputs": [],
   "source": [
    "ax = sns.scatterplot(x = X1[positive_idx], y = X2[positive_idx], marker = '+', color = 'blue')\n",
    "ax = sns.scatterplot(x = X1[negative_idx], y = X2[negative_idx], marker = 'o', color = 'red')\n",
    "plt.contour(xx, yy, z)"
   ]
  },
  {
   "cell_type": "markdown",
   "metadata": {},
   "source": [
    "### C = 100"
   ]
  },
  {
   "cell_type": "code",
   "execution_count": null,
   "metadata": {
    "ExecuteTime": {
     "end_time": "2019-07-10T21:02:41.904744Z",
     "start_time": "2019-07-10T21:02:41.900544Z"
    }
   },
   "outputs": [],
   "source": [
    "classifier = SVC(kernel=\"linear\", C = 100.0)\n",
    "classifier.fit(X, np.ravel(y))"
   ]
  },
  {
   "cell_type": "code",
   "execution_count": null,
   "metadata": {
    "ExecuteTime": {
     "end_time": "2019-07-10T21:02:41.914478Z",
     "start_time": "2019-07-10T21:02:41.907511Z"
    }
   },
   "outputs": [],
   "source": [
    "z = classifier.predict(np.c_[xx.ravel(), yy.ravel()]).reshape(xx.shape)"
   ]
  },
  {
   "cell_type": "code",
   "execution_count": null,
   "metadata": {
    "ExecuteTime": {
     "start_time": "2019-07-10T21:02:40.400Z"
    }
   },
   "outputs": [],
   "source": [
    "ax = sns.scatterplot(x = X1[positive_idx], y = X2[positive_idx], marker = '+', color = 'blue')\n",
    "ax = sns.scatterplot(x = X1[negative_idx], y = X2[negative_idx], marker = 'o', color = 'red')\n",
    "plt.contour(xx, yy, z)"
   ]
  },
  {
   "cell_type": "markdown",
   "metadata": {},
   "source": [
    "## Non Linear Decision Boundary"
   ]
  },
  {
   "cell_type": "markdown",
   "metadata": {},
   "source": [
    "To find non-linear decision boundaries with the SVM, we need to first implement a Gaussian kernel. \n",
    "\n",
    "You can think of the Gaussian kernel as a sim- ilarity function that measures the “distance” between a pair of examples"
   ]
  },
  {
   "cell_type": "markdown",
   "metadata": {},
   "source": [
    "### Gaussian Kernel"
   ]
  },
  {
   "cell_type": "code",
   "execution_count": 3,
   "metadata": {
    "ExecuteTime": {
     "end_time": "2019-07-10T21:03:48.741723Z",
     "start_time": "2019-07-10T21:03:48.737904Z"
    }
   },
   "outputs": [],
   "source": [
    "data = loadmat('ex6/ex6data2.mat')\n",
    "X = data['X']\n",
    "X1 = data['X'][:, 0:1]\n",
    "X2 = data['X'][:, 1:2]\n",
    "y = data['y']"
   ]
  },
  {
   "cell_type": "code",
   "execution_count": 4,
   "metadata": {
    "ExecuteTime": {
     "end_time": "2019-07-10T21:03:50.692002Z",
     "start_time": "2019-07-10T21:03:50.689534Z"
    }
   },
   "outputs": [],
   "source": [
    "positive_idx = y == 1\n",
    "negative_idx = y == 0"
   ]
  },
  {
   "cell_type": "code",
   "execution_count": 5,
   "metadata": {
    "ExecuteTime": {
     "end_time": "2019-07-10T21:03:53.260326Z",
     "start_time": "2019-07-10T21:03:53.115488Z"
    }
   },
   "outputs": [
    {
     "data": {
      "text/plain": [
       "<matplotlib.axes._subplots.AxesSubplot at 0x10e569a90>"
      ]
     },
     "execution_count": 5,
     "metadata": {},
     "output_type": "execute_result"
    },
    {
     "data": {
      "image/png": "[encoded data removed]",
      "text/plain": [
       "<Figure size 432x288 with 1 Axes>"
      ]
     },
     "metadata": {
      "needs_background": "light"
     },
     "output_type": "display_data"
    }
   ],
   "source": [
    "sns.scatterplot(X1[positive_idx], X2[positive_idx], \n",
    "                marker = '+', color = 'red')\n",
    "sns.scatterplot(X1[negative_idx], X2[negative_idx], \n",
    "                marker = 'o', color = 'blue')"
   ]
  },
  {
   "cell_type": "markdown",
   "metadata": {},
   "source": [
    "#### From Scratch"
   ]
  },
  {
   "cell_type": "code",
   "execution_count": 6,
   "metadata": {
    "ExecuteTime": {
     "end_time": "2019-07-10T21:03:56.008758Z",
     "start_time": "2019-07-10T21:03:56.004867Z"
    }
   },
   "outputs": [],
   "source": [
    "def gaussianKernel(x1, x2, sigma = 0.1):\n",
    "    x1 = x1.flatten()\n",
    "    x2 = x2.flatten()\n",
    "    diff = (x2 - x1)**2\n",
    "    sum_diff = np.sum(diff, axis = 0)\n",
    "    denom = float(2 * sigma**2)\n",
    "    result = -(sum_diff / denom)\n",
    "    return np.exp(result)"
   ]
  },
  {
   "cell_type": "markdown",
   "metadata": {},
   "source": [
    "#### Validation"
   ]
  },
  {
   "cell_type": "code",
   "execution_count": null,
   "metadata": {
    "ExecuteTime": {
     "start_time": "2019-07-10T21:02:40.405Z"
    }
   },
   "outputs": [],
   "source": [
    "x1 = np.array([1, 2, 1])\n",
    "x2 = np.array([0, 4, -1])\n",
    "sigma = 2"
   ]
  },
  {
   "cell_type": "code",
   "execution_count": null,
   "metadata": {
    "ExecuteTime": {
     "start_time": "2019-07-10T21:02:40.405Z"
    }
   },
   "outputs": [],
   "source": [
    "sim = gaussianKernel(x1, x2, 2);\n",
    "sim"
   ]
  },
  {
   "cell_type": "code",
   "execution_count": 120,
   "metadata": {
    "ExecuteTime": {
     "end_time": "2019-07-10T22:05:53.522889Z",
     "start_time": "2019-07-10T22:05:53.519024Z"
    }
   },
   "outputs": [],
   "source": [
    "def gaussianKernelGramMatrix(X1 = X1, X2 = X2, k_function = gaussianKernel, sigma = 0.1):\n",
    "    gram_matrix = np.zeros((X1.shape[0], X2.shape[0]))\n",
    "    for i, x1 in enumerate(X1):\n",
    "        for j, x2 in enumerate(X2):\n",
    "            gram_matrix[i, j] = k_function(x1, x2, sigma)\n",
    "    return gram_matrix\n",
    "        "
   ]
  },
  {
   "cell_type": "code",
   "execution_count": null,
   "metadata": {
    "ExecuteTime": {
     "start_time": "2019-07-10T21:02:40.407Z"
    }
   },
   "outputs": [],
   "source": [
    "gram_matrix = gaussianKernelGramMatrix(x1, x2, gaussianKernel, 0.1)"
   ]
  },
  {
   "cell_type": "markdown",
   "metadata": {},
   "source": [
    "#### Sklearn Classifier"
   ]
  },
  {
   "cell_type": "code",
   "execution_count": 8,
   "metadata": {
    "ExecuteTime": {
     "end_time": "2019-07-10T21:04:59.481376Z",
     "start_time": "2019-07-10T21:04:59.477631Z"
    }
   },
   "outputs": [
    {
     "data": {
      "text/plain": [
       "SVC(C=1.0, cache_size=200, class_weight=None, coef0=0.0,\n",
       "  decision_function_shape='ovr', degree=3, gamma='auto_deprecated',\n",
       "  kernel=<function gaussianKernelGramMatrix at 0x1a215d92f0>, max_iter=-1,\n",
       "  probability=False, random_state=None, shrinking=True, tol=0.001,\n",
       "  verbose=False)"
      ]
     },
     "execution_count": 8,
     "metadata": {},
     "output_type": "execute_result"
    }
   ],
   "source": [
    "svm = SVC(kernel = gaussianKernelGramMatrix);\n",
    "svm"
   ]
  },
  {
   "cell_type": "code",
   "execution_count": 9,
   "metadata": {
    "ExecuteTime": {
     "end_time": "2019-07-10T21:05:06.533216Z",
     "start_time": "2019-07-10T21:05:00.717553Z"
    }
   },
   "outputs": [
    {
     "data": {
      "text/plain": [
       "SVC(C=1.0, cache_size=200, class_weight=None, coef0=0.0,\n",
       "  decision_function_shape='ovr', degree=3, gamma='auto_deprecated',\n",
       "  kernel=<function gaussianKernelGramMatrix at 0x1a215d92f0>, max_iter=-1,\n",
       "  probability=False, random_state=None, shrinking=True, tol=0.001,\n",
       "  verbose=False)"
      ]
     },
     "execution_count": 9,
     "metadata": {},
     "output_type": "execute_result"
    }
   ],
   "source": [
    "svm.fit(X, np.ravel(y))"
   ]
  },
  {
   "cell_type": "markdown",
   "metadata": {},
   "source": [
    "### Plotting"
   ]
  },
  {
   "cell_type": "code",
   "execution_count": 12,
   "metadata": {
    "ExecuteTime": {
     "end_time": "2019-07-10T21:07:45.581803Z",
     "start_time": "2019-07-10T21:06:41.813085Z"
    },
    "scrolled": false
   },
   "outputs": [],
   "source": [
    "x1 = np.linspace(X1.min()-0.5, X2.max()+0.5, 100)\n",
    "x2 = np.linspace(X2.min()-0.5, X2.max()+0.5, 100)\n",
    "\n",
    "xx, yy = np.meshgrid(x1, x2)\n",
    "\n",
    "z = svm.predict(np.c_[xx.ravel(), yy.ravel()]).reshape(xx.shape)"
   ]
  },
  {
   "cell_type": "code",
   "execution_count": 17,
   "metadata": {
    "ExecuteTime": {
     "end_time": "2019-07-10T21:12:21.807886Z",
     "start_time": "2019-07-10T21:12:21.619478Z"
    }
   },
   "outputs": [
    {
     "data": {
      "image/png": "[encoded data removed]",
      "text/plain": [
       "<Figure size 432x288 with 1 Axes>"
      ]
     },
     "metadata": {
      "needs_background": "light"
     },
     "output_type": "display_data"
    }
   ],
   "source": [
    "plt.contour(xx, yy, z)\n",
    "sns.scatterplot(X1[positive_idx], X2[positive_idx], \n",
    "                marker = '+', color = 'red')\n",
    "sns.scatterplot(X1[negative_idx], X2[negative_idx], \n",
    "                marker = 'o', color = 'blue')\n",
    "plt.xlim([0, 1.2]);\n",
    "plt.ylim([0.2, 1]);"
   ]
  },
  {
   "cell_type": "markdown",
   "metadata": {},
   "source": [
    "## Finding Best Parameters"
   ]
  },
  {
   "cell_type": "code",
   "execution_count": 102,
   "metadata": {
    "ExecuteTime": {
     "end_time": "2019-07-10T22:01:15.146839Z",
     "start_time": "2019-07-10T22:01:15.143777Z"
    }
   },
   "outputs": [],
   "source": [
    "data = loadmat('ex6/ex6data3.mat')\n",
    "X = data['X']\n",
    "y = data['y']\n",
    "Xval = data['Xval']\n",
    "yval = data['yval']"
   ]
  },
  {
   "cell_type": "code",
   "execution_count": 104,
   "metadata": {
    "ExecuteTime": {
     "end_time": "2019-07-10T22:02:10.700141Z",
     "start_time": "2019-07-10T22:02:10.697175Z"
    }
   },
   "outputs": [],
   "source": [
    "X1 = X[:, 0:1]\n",
    "X2 = X[:, 1:2]\n",
    "X1val = Xval[:, 0:1]\n",
    "X2val = Xval[:, 1:2]"
   ]
  },
  {
   "cell_type": "code",
   "execution_count": 40,
   "metadata": {
    "ExecuteTime": {
     "end_time": "2019-07-10T21:26:36.639669Z",
     "start_time": "2019-07-10T21:26:36.637232Z"
    }
   },
   "outputs": [],
   "source": [
    "positive_idx = y == 1\n",
    "negative_idx = y == 0"
   ]
  },
  {
   "cell_type": "code",
   "execution_count": 41,
   "metadata": {
    "ExecuteTime": {
     "end_time": "2019-07-10T21:26:38.449691Z",
     "start_time": "2019-07-10T21:26:38.324397Z"
    }
   },
   "outputs": [
    {
     "data": {
      "image/png": "[encoded data removed]",
      "text/plain": [
       "<Figure size 432x288 with 1 Axes>"
      ]
     },
     "metadata": {
      "needs_background": "light"
     },
     "output_type": "display_data"
    }
   ],
   "source": [
    "ax = sns.scatterplot(x = X1[positive_idx], y = X2[positive_idx], marker = '+', color = 'blue')\n",
    "ax = sns.scatterplot(x = X1[negative_idx], y = X2[negative_idx], marker = 'o', color = 'red')"
   ]
  },
  {
   "cell_type": "code",
   "execution_count": 30,
   "metadata": {
    "ExecuteTime": {
     "end_time": "2019-07-10T21:21:46.583797Z",
     "start_time": "2019-07-10T21:21:46.579413Z"
    }
   },
   "outputs": [],
   "source": [
    "def predictions(X1, X2):\n",
    "    x1 = np.linspace(X1.min()-0.5, X2.max()+0.5, 100)\n",
    "    x2 = np.linspace(X2.min()-0.5, X2.max()+0.5, 100)\n",
    "\n",
    "    xx, yy = np.meshgrid(x1, x2)\n",
    "\n",
    "    z = svm.predict(np.c_[xx.ravel(), yy.ravel()]).reshape(xx.shape)\n",
    "    return xx, yy, z"
   ]
  },
  {
   "cell_type": "code",
   "execution_count": 87,
   "metadata": {
    "ExecuteTime": {
     "end_time": "2019-07-10T21:49:40.871277Z",
     "start_time": "2019-07-10T21:49:40.867536Z"
    }
   },
   "outputs": [],
   "source": [
    "def plot_graphs(X1, X2, xx, yy, z):\n",
    "    plt.contour(xx, yy, z)\n",
    "    plt.xlim([X1.min() - 0.5, X1.max() + 0.5]);\n",
    "    plt.ylim([X2.min() - 0.5, X2.max() + 0.5]);"
   ]
  },
  {
   "cell_type": "code",
   "execution_count": 89,
   "metadata": {
    "ExecuteTime": {
     "end_time": "2019-07-10T21:49:41.679722Z",
     "start_time": "2019-07-10T21:49:41.675502Z"
    }
   },
   "outputs": [],
   "source": [
    "def plot_data(X, y):\n",
    "    X1 = X[:, 0:1]\n",
    "    X2 = X[:, 1:2]\n",
    "    \n",
    "    positive_idx = y == 1\n",
    "    negative_idx = y == 0\n",
    "    \n",
    "    sns.scatterplot(X1[positive_idx], X2[positive_idx], \n",
    "                marker = '+', color = 'red')\n",
    "    sns.scatterplot(X1[negative_idx], X2[negative_idx], \n",
    "            marker = 'o', color = 'blue')"
   ]
  },
  {
   "cell_type": "code",
   "execution_count": 129,
   "metadata": {
    "ExecuteTime": {
     "end_time": "2019-07-10T22:07:17.354494Z",
     "start_time": "2019-07-10T22:07:16.978150Z"
    }
   },
   "outputs": [
    {
     "data": {
      "text/plain": [
       "SVC(C=0.1, cache_size=200, class_weight=None, coef0=0.0,\n",
       "  decision_function_shape='ovr', degree=3, gamma='auto_deprecated',\n",
       "  kernel=<function gaussianKernelGramMatrix at 0x1a24580b70>, max_iter=-1,\n",
       "  probability=False, random_state=None, shrinking=True, tol=0.001,\n",
       "  verbose=False)"
      ]
     },
     "execution_count": 129,
     "metadata": {},
     "output_type": "execute_result"
    }
   ],
   "source": [
    "svm = SVC(C = 0.1, kernel = gaussianKernelGramMatrix)\n",
    "svm.fit(X, np.ravel(y))"
   ]
  },
  {
   "cell_type": "code",
   "execution_count": 130,
   "metadata": {
    "ExecuteTime": {
     "end_time": "2019-07-10T22:07:36.083517Z",
     "start_time": "2019-07-10T22:07:20.170482Z"
    }
   },
   "outputs": [],
   "source": [
    "xx, yy, z = predictions(X1val, X2val)"
   ]
  },
  {
   "cell_type": "code",
   "execution_count": 131,
   "metadata": {
    "ExecuteTime": {
     "end_time": "2019-07-10T22:07:36.238121Z",
     "start_time": "2019-07-10T22:07:36.084961Z"
    }
   },
   "outputs": [
    {
     "data": {
      "text/plain": [
       "<matplotlib.contour.QuadContourSet at 0x1a24573208>"
      ]
     },
     "execution_count": 131,
     "metadata": {},
     "output_type": "execute_result"
    },
    {
     "data": {
      "image/png": "[encoded data removed]",
      "text/plain": [
       "<Figure size 432x288 with 1 Axes>"
      ]
     },
     "metadata": {
      "needs_background": "light"
     },
     "output_type": "display_data"
    }
   ],
   "source": [
    "plot_data(Xval, yval)\n",
    "plt.contour(xx, yy, z)"
   ]
  },
  {
   "cell_type": "markdown",
   "metadata": {},
   "source": [
    "# Spam Classifier"
   ]
  },
  {
   "cell_type": "markdown",
   "metadata": {},
   "source": [
    "Many email services today provide spam filters that are able to classify emails into spam and non-spam email with high accuracy. In this part of the exercise, you will use SVMs to build your own spam filter."
   ]
  },
  {
   "cell_type": "code",
   "execution_count": 7,
   "metadata": {},
   "outputs": [],
   "source": [
    "spam_train = loadmat('ex6/spamTrain.mat')\n",
    "spam_test = loadmat('ex6/spamTest.mat')"
   ]
  },
  {
   "cell_type": "code",
   "execution_count": 141,
   "metadata": {},
   "outputs": [
    {
     "data": {
      "text/plain": [
       "((4000, 1899), (4000,), (1000, 1899), (1000,))"
      ]
     },
     "execution_count": 141,
     "metadata": {},
     "output_type": "execute_result"
    }
   ],
   "source": [
    "X = spam_train['X']\n",
    "Xtest = spam_test['Xtest']\n",
    "y = spam_train['y'].ravel()\n",
    "ytest = spam_test['ytest'].ravel()\n",
    "\n",
    "X.shape, y.shape, Xtest.shape, ytest.shape"
   ]
  },
  {
   "cell_type": "code",
   "execution_count": 152,
   "metadata": {},
   "outputs": [],
   "source": [
    "svm = SVC(kernel = 'linear')"
   ]
  },
  {
   "cell_type": "code",
   "execution_count": 153,
   "metadata": {},
   "outputs": [
    {
     "name": "stdout",
     "output_type": "stream",
     "text": [
      "Test accuracy = 97.8%\n"
     ]
    }
   ],
   "source": [
    "svm.fit(X, y)\n",
    "print('Test accuracy = {0}%'.format(np.round(svm.score(Xtest, ytest) * 100, 2)))"
   ]
  },
  {
   "cell_type": "code",
   "execution_count": 39,
   "metadata": {},
   "outputs": [],
   "source": [
    "def load_vocab_list():\n",
    "    data = pd.read_csv('ex6/vocab.txt', sep = '\\t', header = None).iloc[:, 1:2]\n",
    "    return data"
   ]
  },
  {
   "cell_type": "code",
   "execution_count": 54,
   "metadata": {},
   "outputs": [],
   "source": [
    "def preProcessEmail(email_contents):\n",
    "    \"\"\"\n",
    "    Preprocesses the body of an email and returns a list of indices of the words contained in the email. \n",
    "    \"\"\"\n",
    "    # Lower case\n",
    "    email_contents = email_contents.lower()\n",
    "    \n",
    "    # Handle numbers\n",
    "    email_contents = re.sub(\"[0-9]+\",\"number\",email_contents)\n",
    "    \n",
    "    # Handle URLS\n",
    "    email_contents = re.sub(\"[http|https]://[^\\s]*\",\"httpaddr\",email_contents)\n",
    "    \n",
    "    # Handle Email Addresses\n",
    "    email_contents = re.sub(\"[^\\s]+@[^\\s]+\",\"emailaddr\",email_contents)\n",
    "    \n",
    "    # Handle $ sign\n",
    "    email_contents = re.sub(\"[$]+\",\"dollar\",email_contents)\n",
    "    \n",
    "    # Strip all special characters\n",
    "    specialChar = [\"<\",\"[\",\"^\",\">\",\"+\",\"?\",\"!\",\"'\",\".\",\",\",\":\"]\n",
    "    for char in specialChar:\n",
    "        email_contents = email_contents.replace(str(char),\"\")\n",
    "    email_contents = email_contents.replace(\"\\n\",\" \")    \n",
    "    \n",
    "    # Stem the word\n",
    "    ps = PorterStemmer()\n",
    "    email_contents = [ps.stem(token) for token in email_contents.split(\" \")]\n",
    "    email_contents= \" \".join(email_contents)\n",
    "    \n",
    "    # Process the email and return word_indices\n",
    "    return email_contents"
   ]
  },
  {
   "cell_type": "code",
   "execution_count": 82,
   "metadata": {},
   "outputs": [],
   "source": [
    "findWordIndex(preProcessed_email, vocabList)"
   ]
  },
  {
   "cell_type": "code",
   "execution_count": 79,
   "metadata": {},
   "outputs": [],
   "source": [
    "vocabList = load_vocab_list()"
   ]
  },
  {
   "cell_type": "code",
   "execution_count": 44,
   "metadata": {},
   "outputs": [],
   "source": [
    "file_contents = open(\"ex6/emailSample1.txt\",\"r\").read()"
   ]
  },
  {
   "cell_type": "code",
   "execution_count": 66,
   "metadata": {},
   "outputs": [],
   "source": [
    "preProcessed_email = preProcessEmail(file_contents)"
   ]
  },
  {
   "cell_type": "code",
   "execution_count": 125,
   "metadata": {},
   "outputs": [],
   "source": [
    "def findWordIndex(email, vocabList):\n",
    "    vocabList = np.array(vocabList)\n",
    "    word_indices = []\n",
    "    words = email.split()\n",
    "    for word in words:\n",
    "        if word in vocabList:\n",
    "            index = np.where(vocabList == word)\n",
    "            word_indices.append(index[0][0])\n",
    "    return word_indices\n",
    "        "
   ]
  },
  {
   "cell_type": "code",
   "execution_count": 126,
   "metadata": {},
   "outputs": [],
   "source": [
    "indices = findWordIndex(preProcessed_email, vocabList)"
   ]
  },
  {
   "cell_type": "code",
   "execution_count": 135,
   "metadata": {},
   "outputs": [],
   "source": [
    "def email_features(email_indices, vocabList):\n",
    "    feature_set = np.zeros((1, vocabList.shape[0]))\n",
    "    feature_set[:, email_indices] = 1\n",
    "    return feature_set"
   ]
  },
  {
   "cell_type": "code",
   "execution_count": 136,
   "metadata": {},
   "outputs": [],
   "source": [
    "f = email_features(indices, vocabList)"
   ]
  },
  {
   "cell_type": "code",
   "execution_count": 139,
   "metadata": {},
   "outputs": [],
   "source": [
    "def find_top_predictors_for_spam(model):\n",
    "    pass"
   ]
  },
  {
   "cell_type": "code",
   "execution_count": 160,
   "metadata": {},
   "outputs": [
    {
     "data": {
      "text/plain": [
       "numpy.ndarray"
      ]
     },
     "execution_count": 160,
     "metadata": {},
     "output_type": "execute_result"
    }
   ],
   "source": [
    "type(svm.coef_)"
   ]
  },
  {
   "cell_type": "code",
   "execution_count": 217,
   "metadata": {},
   "outputs": [],
   "source": [
    "sorted_indices = np.argsort(svm.coef_)[0, ::-1][20:]"
   ]
  },
  {
   "cell_type": "code",
   "execution_count": 227,
   "metadata": {},
   "outputs": [],
   "source": [
    "weights = svm.coef_[0, sorted_indices]"
   ]
  },
  {
   "cell_type": "code",
   "execution_count": 230,
   "metadata": {},
   "outputs": [],
   "source": [
    "words = vocabList.iloc[sorted_indices]"
   ]
  },
  {
   "cell_type": "code",
   "execution_count": 238,
   "metadata": {},
   "outputs": [],
   "source": [
    "top_predictors = np.hstack((words, weights[:, None]))"
   ]
  },
  {
   "cell_type": "code",
   "execution_count": 246,
   "metadata": {},
   "outputs": [
    {
     "name": "stdout",
     "output_type": "stream",
     "text": [
      "Top Words of Spam:\n",
      "our: 0.718\n",
      "flash: 0.585\n",
      "wi: 0.554\n",
      "numberb: 0.55\n",
      "remov: 0.527\n",
      "visit: 0.495\n",
      "click: 0.485\n",
      "bodi: 0.471\n",
      "guarante: 0.462\n",
      "send: 0.461\n"
     ]
    }
   ],
   "source": [
    "print(f'Top Words of Spam:')\n",
    "for row in top_predictors[:10]:\n",
    "    print(f'{row[0]}: {round(row[1], 3)}')"
   ]
  },
  {
   "cell_type": "code",
   "execution_count": null,
   "metadata": {},
   "outputs": [],
   "source": []
  }
 ],
 "metadata": {
  "kernelspec": {
   "display_name": "Python 3",
   "language": "python",
   "name": "python3"
  },
  "language_info": {
   "codemirror_mode": {
    "name": "ipython",
    "version": 3
   },
   "file_extension": ".py",
   "mimetype": "text/x-python",
   "name": "python",
   "nbconvert_exporter": "python",
   "pygments_lexer": "ipython3",
   "version": "3.7.3"
  }
 },
 "nbformat": 4,
 "nbformat_minor": 2
}
